{
 "cells": [
  {
   "cell_type": "markdown",
   "id": "1022067d",
   "metadata": {},
   "source": [
    "# NumPy Exercises with Solutions"
   ]
  },
  {
   "cell_type": "markdown",
   "id": "a02848cf",
   "metadata": {},
   "source": [
    "### 1. Import the numpy package under the name `np` (★☆☆)"
   ]
  },
  {
   "cell_type": "code",
   "execution_count": null,
   "id": "96700b5c",
   "metadata": {},
   "outputs": [],
   "source": [
    "import numpy as np"
   ]
  },
  {
   "cell_type": "markdown",
   "id": "2cacdb84",
   "metadata": {},
   "source": [
    "### 2. Create a null vector of size 10 (★☆☆)"
   ]
  },
  {
   "cell_type": "code",
   "execution_count": null,
   "id": "e5dd29b1",
   "metadata": {},
   "outputs": [],
   "source": [
    "null_vector = np.zeros(10)\n",
    "null_vector"
   ]
  },
  {
   "cell_type": "markdown",
   "id": "582c2297",
   "metadata": {},
   "source": [
    "### 3. Create a null vector of size 10 but the fifth value which is 1 (★☆☆)"
   ]
  },
  {
   "cell_type": "code",
   "execution_count": null,
   "id": "aa890e7b",
   "metadata": {},
   "outputs": [],
   "source": [
    "vector = np.zeros(10)\n",
    "vector[4] = 1\n",
    "vector"
   ]
  },
  {
   "cell_type": "markdown",
   "id": "2f693b68",
   "metadata": {},
   "source": [
    "### 4. Create a vector with values ranging from 10 to 49 (★☆☆)"
   ]
  },
  {
   "cell_type": "code",
   "execution_count": null,
   "id": "89562fa5",
   "metadata": {},
   "outputs": [],
   "source": [
    "vector = np.arange(10, 50)\n",
    "vector"
   ]
  },
  {
   "cell_type": "markdown",
   "id": "4edb9281",
   "metadata": {},
   "source": [
    "### 5. Create a 3x3 matrix with values ranging from 0 to 8 (★☆☆)"
   ]
  },
  {
   "cell_type": "code",
   "execution_count": null,
   "id": "582150fe",
   "metadata": {},
   "outputs": [],
   "source": [
    "matrix = np.arange(9).reshape(3, 3)\n",
    "matrix"
   ]
  },
  {
   "cell_type": "markdown",
   "id": "6d0c6f16",
   "metadata": {},
   "source": [
    "### 6. Find indices of non-zero elements from [1,2,0,0,4,0] (★☆☆)"
   ]
  },
  {
   "cell_type": "code",
   "execution_count": null,
   "id": "17ab279a",
   "metadata": {},
   "outputs": [],
   "source": [
    "non_zero = np.nonzero([1, 2, 0, 0, 4, 0])\n",
    "non_zero"
   ]
  },
  {
   "cell_type": "markdown",
   "id": "3dc81ce7",
   "metadata": {},
   "source": [
    "### 7. Create a 3x3 identity matrix (★☆☆)"
   ]
  },
  {
   "cell_type": "code",
   "execution_count": null,
   "id": "7de86fff",
   "metadata": {},
   "outputs": [],
   "source": [
    "identity_matrix = np.eye(3)\n",
    "identity_matrix"
   ]
  },
  {
   "cell_type": "markdown",
   "id": "af2cbe8c",
   "metadata": {},
   "source": [
    "### 8. Create a 3x3x3 array with random values (★☆☆)"
   ]
  },
  {
   "cell_type": "code",
   "execution_count": null,
   "id": "1d83163f",
   "metadata": {},
   "outputs": [],
   "source": [
    "random_array = np.random.random((3, 3, 3))\n",
    "random_array"
   ]
  },
  {
   "cell_type": "markdown",
   "id": "2c4b2d05",
   "metadata": {},
   "source": [
    "### 9. Create a 10x10 array with random values and find the minimum and maximum values (★☆☆)"
   ]
  },
  {
   "cell_type": "code",
   "execution_count": null,
   "id": "c2ffda8e",
   "metadata": {},
   "outputs": [],
   "source": [
    "random_matrix = np.random.random((10, 10))\n",
    "min_value = random_matrix.min()\n",
    "max_value = random_matrix.max()\n",
    "min_value, max_value"
   ]
  },
  {
   "cell_type": "markdown",
   "id": "9c4ba901",
   "metadata": {},
   "source": [
    "### 10. Create a random vector of size 30 and find the mean value (★☆☆)"
   ]
  },
  {
   "cell_type": "code",
   "execution_count": null,
   "id": "92b13d7a",
   "metadata": {},
   "outputs": [],
   "source": [
    "random_vector = np.random.random(30)\n",
    "mean_value = random_vector.mean()\n",
    "mean_value"
   ]
  },
  {
   "cell_type": "markdown",
   "id": "a277c6a8",
   "metadata": {},
   "source": [
    "### 11. Create a 5x5 matrix with values 1,2,3,4 just below the diagonal (★☆☆)"
   ]
  },
  {
   "cell_type": "code",
   "execution_count": null,
   "id": "39adeaae",
   "metadata": {},
   "outputs": [],
   "source": [
    "matrix_diag = np.diag(np.arange(1, 5), k=-1)\n",
    "matrix_diag"
   ]
  },
  {
   "cell_type": "markdown",
   "id": "fa9620ef",
   "metadata": {},
   "source": [
    "### 12. Normalize a 5x5 random matrix (★☆☆)"
   ]
  },
  {
   "cell_type": "code",
   "execution_count": null,
   "id": "d365f92e",
   "metadata": {},
   "outputs": [],
   "source": [
    "\n",
    "random_matrix = np.random.random((5, 5))\n",
    "normalized_matrix = (random_matrix - random_matrix.min()) / (random_matrix.max() - random_matrix.min())\n",
    "normalized_matrix\n"
   ]
  },
  {
   "cell_type": "markdown",
   "id": "8afe3cee",
   "metadata": {},
   "source": [
    "### 13. How to find common values between two arrays? (★☆☆)"
   ]
  },
  {
   "cell_type": "code",
   "execution_count": null,
   "id": "c8dbb845",
   "metadata": {},
   "outputs": [],
   "source": [
    "array1 = np.array([1, 2, 3, 4, 5])\n",
    "array2 = np.array([3, 4, 5, 6, 7])\n",
    "common_values = np.intersect1d(array1, array2)\n",
    "common_values\n"
   ]
  },
  {
   "cell_type": "markdown",
   "id": "94646f2a",
   "metadata": {},
   "source": [
    "### 14. Create a random vector of size 10 and sort it (★☆☆)"
   ]
  },
  {
   "cell_type": "code",
   "execution_count": null,
   "id": "b713d5ea",
   "metadata": {},
   "outputs": [],
   "source": [
    "random_vector = np.random.random(10)\n",
    "sorted_vector = np.sort(random_vector)\n",
    "sorted_vector\n"
   ]
  },
  {
   "cell_type": "markdown",
   "id": "e8290948",
   "metadata": {},
   "source": [
    "### 15. How to sum a small array faster than np.sum? (★★☆)"
   ]
  },
  {
   "cell_type": "code",
   "execution_count": null,
   "id": "52e68802",
   "metadata": {},
   "outputs": [],
   "source": [
    "small_array = np.array([1, 2, 3, 4, 5])\n",
    "sum_fast = np.add.reduce(small_array)\n",
    "sum_fast\n"
   ]
  },
  {
   "cell_type": "markdown",
   "id": "605e97a4",
   "metadata": {},
   "source": [
    "### 16. Consider two random arrays A and B, check if they are equal (★★☆)"
   ]
  },
  {
   "cell_type": "code",
   "execution_count": null,
   "id": "2aa04528",
   "metadata": {},
   "outputs": [],
   "source": [
    "A = np.random.randint(0, 10, 5)\n",
    "B = np.random.randint(0, 10, 5)\n",
    "are_equal = np.array_equal(A, B)\n",
    "are_equal\n"
   ]
  },
  {
   "cell_type": "markdown",
   "id": "3146c3a8",
   "metadata": {},
   "source": [
    "### 17. Make an array immutable (read-only) (★★☆)"
   ]
  },
  {
   "cell_type": "code",
   "execution_count": null,
   "id": "c78d7961",
   "metadata": {},
   "outputs": [],
   "source": [
    "immutable_array = np.zeros(10)\n",
    "immutable_array.flags.writeable = False\n"
   ]
  },
  {
   "cell_type": "markdown",
   "id": "78273cf3",
   "metadata": {},
   "source": [
    "### 18. Create random vector of size 10 and replace the maximum value by 0 (★★☆)"
   ]
  },
  {
   "cell_type": "code",
   "execution_count": null,
   "id": "d7b153c7",
   "metadata": {},
   "outputs": [],
   "source": [
    "random_vector = np.random.random(10)\n",
    "random_vector[random_vector.argmax()] = 0\n",
    "random_vector\n"
   ]
  }
 ],
 "metadata": {
  "kernelspec": {
   "display_name": "Python 3 (ipykernel)",
   "language": "python",
   "name": "python3"
  },
  "language_info": {
   "codemirror_mode": {
    "name": "ipython",
    "version": 3
   },
   "file_extension": ".py",
   "mimetype": "text/x-python",
   "name": "python",
   "nbconvert_exporter": "python",
   "pygments_lexer": "ipython3",
   "version": "3.11.5"
  }
 },
 "nbformat": 4,
 "nbformat_minor": 5
}
